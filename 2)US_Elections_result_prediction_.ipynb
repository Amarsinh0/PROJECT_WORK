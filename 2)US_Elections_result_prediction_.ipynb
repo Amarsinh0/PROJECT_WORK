{
  "nbformat": 4,
  "nbformat_minor": 0,
  "metadata": {
    "colab": {
      "provenance": [],
      "mount_file_id": "1d86LMdgAglGy7PmmJ7E2g0WU1sZAi-Fh",
      "authorship_tag": "ABX9TyMIa4VPfwFM3I8uvw4zvVLy",
      "include_colab_link": true
    },
    "kernelspec": {
      "name": "python3",
      "display_name": "Python 3"
    },
    "language_info": {
      "name": "python"
    }
  },
  "cells": [
    {
      "cell_type": "markdown",
      "metadata": {
        "id": "view-in-github",
        "colab_type": "text"
      },
      "source": [
        "<a href=\"https://colab.research.google.com/github/Amarsinh0/PROJECT_WORK/blob/main/2)US_Elections_result_prediction_.ipynb\" target=\"_parent\"><img src=\"https://colab.research.google.com/assets/colab-badge.svg\" alt=\"Open In Colab\"/></a>"
      ]
    },
    {
      "cell_type": "code",
      "source": [
        "from google.colab import drive\n",
        "drive.mount('/content/drive')"
      ],
      "metadata": {
        "colab": {
          "base_uri": "https://localhost:8080/"
        },
        "id": "hipDW1iFuBZh",
        "outputId": "f41f8cbb-3601-48d6-e9ca-2d6e1a3df0de"
      },
      "execution_count": 74,
      "outputs": [
        {
          "output_type": "stream",
          "name": "stdout",
          "text": [
            "Drive already mounted at /content/drive; to attempt to forcibly remount, call drive.mount(\"/content/drive\", force_remount=True).\n"
          ]
        }
      ]
    },
    {
      "cell_type": "code",
      "source": [
        "import pandas as pd\n",
        "import numpy as np\n",
        "import seaborn as sns\n",
        "import matplotlib.pyplot as plt\n",
        "from textblob import TextBlob\n",
        "from wordcloud import WordCloud\n",
        "import plotly.graph_objects as go\n",
        "import plotly.express as px\n",
        "\n"
      ],
      "metadata": {
        "id": "00SwaZ8BuaO1"
      },
      "execution_count": 75,
      "outputs": []
    },
    {
      "cell_type": "code",
      "source": [
        "trump = pd.read_csv(\"/Trumpall2.csv\")\n"
      ],
      "metadata": {
        "id": "o5Id1ModudEr"
      },
      "execution_count": 76,
      "outputs": []
    },
    {
      "cell_type": "code",
      "source": [
        "biden = pd.read_csv(\"/Bidenall2.csv\",encoding='latin-1')\n"
      ],
      "metadata": {
        "id": "vNwz9RpH0mML"
      },
      "execution_count": 77,
      "outputs": []
    },
    {
      "cell_type": "code",
      "source": [
        "print(trump.head(),'n\\n\\n\\n\\n')\n",
        "print(biden.head())"
      ],
      "metadata": {
        "colab": {
          "base_uri": "https://localhost:8080/"
        },
        "id": "AseYoBeU1qKY",
        "outputId": "b36e74cd-f51a-4fda-c2f7-b0219c60c324"
      },
      "execution_count": 78,
      "outputs": [
        {
          "output_type": "stream",
          "name": "stdout",
          "text": [
            "              user                                               text\n",
            "0      manny_rosen   @sanofi please tell us how many shares the Cr...\n",
            "1        osi_abdul   https://t.co/atM98CpqF7  Like, comment, RT #P...\n",
            "2          Patsyrw   Your AG Barr is as useless &amp; corrupt as y...\n",
            "3  seyedebrahimi_m   Mr. Trump! Wake Up!  Most of the comments bel...\n",
            "4    James09254677   After 4 years you think you would have figure... n\n",
            "\n",
            "\n",
            "\n",
            "\n",
            "           user                                               text\n",
            "0   MarkHodder3  @JoeBiden And weâll find out who won in 2026...\n",
            "1    K87327961G  @JoeBiden Your Democratic Nazi Party cannot be...\n",
            "2      OldlaceA                        @JoeBiden So did Lying Barr\n",
            "3    penblogger  @JoeBiden It's clear you didnt compose this tw...\n",
            "4  Aquarian0264         @JoeBiden I will vote in person thank you.\n"
          ]
        }
      ]
    },
    {
      "cell_type": "markdown",
      "source": [
        "# **Sentiment Analysis**\n",
        "\n",
        "Now, I will get started with sentiment analysis. I will do it by using the Textblob package in Python. Here I will use this package to perform simple text classification in either positive or negative on the basis of sentiment analysis:"
      ],
      "metadata": {
        "id": "66a171Jb2bBu"
      }
    },
    {
      "cell_type": "code",
      "source": [
        "textblob1 = TextBlob(trump_reviews[\"text\"][10])\n",
        "print(\"Trump :\",textblob1.sentiment)"
      ],
      "metadata": {
        "colab": {
          "base_uri": "https://localhost:8080/"
        },
        "id": "EsIZ-dCF4uAw",
        "outputId": "ae9076b1-e706-4ed7-d449-1fb3e0b2076a"
      },
      "execution_count": 79,
      "outputs": [
        {
          "output_type": "stream",
          "name": "stdout",
          "text": [
            "Trump : Sentiment(polarity=0.15, subjectivity=0.3125)\n"
          ]
        }
      ]
    },
    {
      "cell_type": "code",
      "source": [
        "textblob2 = TextBlob(biden[\"text\"][500])\n",
        "print(\"Biden :\",textblob2.sentiment)\n"
      ],
      "metadata": {
        "colab": {
          "base_uri": "https://localhost:8080/"
        },
        "id": "yjpeXtr_5Ysz",
        "outputId": "b1f33daa-9f2d-4dc1-bd07-8d82b57da505"
      },
      "execution_count": 80,
      "outputs": [
        {
          "output_type": "stream",
          "name": "stdout",
          "text": [
            "Biden : Sentiment(polarity=0.6, subjectivity=0.9)\n"
          ]
        }
      ]
    },
    {
      "cell_type": "code",
      "source": [
        "from textblob import TextBlob\n",
        "\n",
        "# we have the 'trump' and 'biden' lists containing text data\n",
        "trump_sentiments = []\n",
        "\n",
        "for review in trump:\n",
        "    sentiment = find_pol(review)\n",
        "    trump_sentiments.append(sentiment)\n",
        "\n",
        "biden_sentiments = []\n",
        "\n",
        "for review in biden:\n",
        "    sentiment = find_pol(review)\n",
        "    biden_sentiments.append(sentiment)\n",
        "\n",
        "# we have the sentiment values in the 'trump_sentiments' and 'biden_sentiments' lists\n",
        "\n"
      ],
      "metadata": {
        "id": "5dNixH6KAY3P"
      },
      "execution_count": 81,
      "outputs": []
    },
    {
      "cell_type": "code",
      "source": [
        "\n",
        "def find_pol(review):\n",
        "    return TextBlob(review).sentiment.polarity\n",
        "\n",
        "trump[\"Sentiment Polarity\"] = trump[\"text\"].apply(find_pol)\n",
        "print(trump[\"Sentiment Polarity\"])\n",
        "\n"
      ],
      "metadata": {
        "colab": {
          "base_uri": "https://localhost:8080/"
        },
        "id": "F9T9yPEmEe1k",
        "outputId": "1cf97e8c-ba99-4c86-915a-c61f0e383ab8"
      },
      "execution_count": 86,
      "outputs": [
        {
          "output_type": "stream",
          "name": "stdout",
          "text": [
            "0       0.050\n",
            "1       0.000\n",
            "2      -0.500\n",
            "3       0.500\n",
            "4       0.000\n",
            "        ...  \n",
            "2783    0.000\n",
            "2784    0.000\n",
            "2785    0.225\n",
            "2786    0.000\n",
            "2787   -0.500\n",
            "Name: Sentiment Polarity, Length: 2788, dtype: float64\n"
          ]
        }
      ]
    },
    {
      "cell_type": "code",
      "source": [
        "\n",
        "def find_pol(review):\n",
        "    return TextBlob(review).sentiment.polarity\n",
        "\n",
        "biden[\"Sentiment Polarity\"] = biden[\"text\"].apply(find_pol)\n",
        "print(biden[\"Sentiment Polarity\"])"
      ],
      "metadata": {
        "colab": {
          "base_uri": "https://localhost:8080/"
        },
        "id": "yVAtfMIkFEOD",
        "outputId": "ccc4b0e7-a887-45ed-b272-cfdd498b9da8"
      },
      "execution_count": 87,
      "outputs": [
        {
          "output_type": "stream",
          "name": "stdout",
          "text": [
            "0       0.00\n",
            "1       0.00\n",
            "2       0.00\n",
            "3       0.05\n",
            "4       0.00\n",
            "        ... \n",
            "2535    0.15\n",
            "2536    0.00\n",
            "2537    0.00\n",
            "2538    0.10\n",
            "2539    0.20\n",
            "Name: Sentiment Polarity, Length: 2540, dtype: float64\n"
          ]
        }
      ]
    },
    {
      "cell_type": "markdown",
      "source": [
        "**Now before moving forward let’s understand what is Polarity. Polarity ranges from -1 to +1(negative to positive) and tells whether the text has negative sentiments or positive sentiments. Polarity tells about factual information.**"
      ],
      "metadata": {
        "id": "NqIAHnAmGKdX"
      }
    },
    {
      "cell_type": "markdown",
      "source": [
        "# **Sentiment Polarity on Both the candidates:**\n",
        "\n",
        "Now I will add a new attribute in both the datasets by the name of “Expression Label”:"
      ],
      "metadata": {
        "id": "_Qypekw6GTXI"
      }
    },
    {
      "cell_type": "code",
      "source": [
        "trump[\"Expression Label\"] = np.where(trump[\"Sentiment Polarity\"]>0, \"positive\", \"negative\")\n",
        "trump[\"Expression Label\"][trump[\"Sentiment Polarity\"]==0]=\"Neutral\"\n",
        "print(trump[\"Expression Label\"])\n",
        "\n"
      ],
      "metadata": {
        "colab": {
          "base_uri": "https://localhost:8080/"
        },
        "id": "URbmR8VsGM9G",
        "outputId": "f2ff1825-2d0f-46e6-cd81-3a94cfabfb19"
      },
      "execution_count": 91,
      "outputs": [
        {
          "output_type": "stream",
          "name": "stdout",
          "text": [
            "0       positive\n",
            "1        Neutral\n",
            "2       negative\n",
            "3       positive\n",
            "4        Neutral\n",
            "          ...   \n",
            "2783     Neutral\n",
            "2784     Neutral\n",
            "2785    positive\n",
            "2786     Neutral\n",
            "2787    negative\n",
            "Name: Expression Label, Length: 2788, dtype: object\n"
          ]
        },
        {
          "output_type": "stream",
          "name": "stderr",
          "text": [
            "<ipython-input-91-4bb9d5ec13d4>:2: SettingWithCopyWarning: \n",
            "A value is trying to be set on a copy of a slice from a DataFrame\n",
            "\n",
            "See the caveats in the documentation: https://pandas.pydata.org/pandas-docs/stable/user_guide/indexing.html#returning-a-view-versus-a-copy\n",
            "  trump[\"Expression Label\"][trump[\"Sentiment Polarity\"]==0]=\"Neutral\"\n"
          ]
        }
      ]
    },
    {
      "cell_type": "code",
      "source": [
        "biden[\"Expression Label\"] = np.where(biden[\"Sentiment Polarity\"]>0, \"positive\", \"negative\")\n",
        "biden[\"Expression Label\"][trump[\"Sentiment Polarity\"]==0]=\"Neutral\"\n",
        "print(biden.head())"
      ],
      "metadata": {
        "colab": {
          "base_uri": "https://localhost:8080/"
        },
        "id": "bdjrA6LTGyqO",
        "outputId": "a5adb2d6-a377-4c4e-fc55-77583461db17"
      },
      "execution_count": 93,
      "outputs": [
        {
          "output_type": "stream",
          "name": "stdout",
          "text": [
            "           user                                               text  \\\n",
            "0   MarkHodder3  @JoeBiden And weâll find out who won in 2026...   \n",
            "1    K87327961G  @JoeBiden Your Democratic Nazi Party cannot be...   \n",
            "2      OldlaceA                        @JoeBiden So did Lying Barr   \n",
            "3    penblogger  @JoeBiden It's clear you didnt compose this tw...   \n",
            "4  Aquarian0264         @JoeBiden I will vote in person thank you.   \n",
            "\n",
            "   Sentiment Polarity Expression Label  \n",
            "0                0.00         negative  \n",
            "1                0.00          Neutral  \n",
            "2                0.00         negative  \n",
            "3                0.05         positive  \n",
            "4                0.00          Neutral  \n"
          ]
        },
        {
          "output_type": "stream",
          "name": "stderr",
          "text": [
            "<ipython-input-93-527bb8a4ff46>:2: SettingWithCopyWarning: \n",
            "A value is trying to be set on a copy of a slice from a DataFrame\n",
            "\n",
            "See the caveats in the documentation: https://pandas.pydata.org/pandas-docs/stable/user_guide/indexing.html#returning-a-view-versus-a-copy\n",
            "  biden[\"Expression Label\"][trump[\"Sentiment Polarity\"]==0]=\"Neutral\"\n"
          ]
        }
      ]
    },
    {
      "cell_type": "markdown",
      "source": [
        "Now I will drop all the tweets with neutral polarity from both the datasets to balance the data equally. I will also perform some data cleaning operations so that at the can we can easily predict the US Elections:"
      ],
      "metadata": {
        "id": "Aaxb9GYXH4WX"
      }
    },
    {
      "cell_type": "code",
      "source": [
        "reviews1 = trump[trump['Sentiment Polarity'] == 0.0000]\n",
        "print(reviews1.shape)\n",
        "\n",
        "cond1=trump['Sentiment Polarity'].isin(reviews1['Sentiment Polarity'])\n",
        "trump.drop(trump[cond1].index, inplace = True)\n",
        "print(trump.shape)\n",
        "\n"
      ],
      "metadata": {
        "colab": {
          "base_uri": "https://localhost:8080/"
        },
        "id": "OcbvmLe4HtJX",
        "outputId": "0074b44a-78ea-425d-fda8-82baea087d72"
      },
      "execution_count": 95,
      "outputs": [
        {
          "output_type": "stream",
          "name": "stdout",
          "text": [
            "(0, 4)\n",
            "(1324, 4)\n"
          ]
        }
      ]
    },
    {
      "cell_type": "code",
      "source": [
        "reviews2 = biden[biden['Sentiment Polarity'] == 0.0000]\n",
        "print(reviews2.shape)\n",
        "\n",
        "cond2=biden['Sentiment Polarity'].isin(reviews1['Sentiment Polarity'])\n",
        "biden.drop(biden[cond2].index, inplace = True)\n",
        "print(biden.shape)"
      ],
      "metadata": {
        "colab": {
          "base_uri": "https://localhost:8080/"
        },
        "id": "jq4jqEIZIWdO",
        "outputId": "beae24b6-07a6-46fe-fc6b-41d7fb4bc071"
      },
      "execution_count": 96,
      "outputs": [
        {
          "output_type": "stream",
          "name": "stdout",
          "text": [
            "(0, 4)\n",
            "(1030, 4)\n"
          ]
        }
      ]
    },
    {
      "cell_type": "markdown",
      "source": [
        "# **Now, before moving forward we need to balance both the datasets:**"
      ],
      "metadata": {
        "id": "wJnhKauWI3so"
      }
    },
    {
      "cell_type": "code",
      "source": [
        "# Donald Trump\n",
        "np.random.seed(10)\n",
        "remove_n =324\n",
        "drop_indices = np.random.choice(trump.index, remove_n, replace=False)\n",
        "df_subset_trump = trump.drop(drop_indices)\n",
        "print(df_subset_trump.shape)"
      ],
      "metadata": {
        "colab": {
          "base_uri": "https://localhost:8080/"
        },
        "id": "RupdlmqNI57d",
        "outputId": "ec2cc04a-644e-44c4-d6b7-7dbbf9bac21c"
      },
      "execution_count": 98,
      "outputs": [
        {
          "output_type": "stream",
          "name": "stdout",
          "text": [
            "(1000, 4)\n"
          ]
        }
      ]
    },
    {
      "cell_type": "code",
      "source": [
        "# Joe Biden\n",
        "np.random.seed(10)\n",
        "remove_n =30\n",
        "drop_indices = np.random.choice(biden.index, remove_n, replace=False)\n",
        "df_subset_biden = biden.drop(drop_indices)\n",
        "print(df_subset_biden.shape)"
      ],
      "metadata": {
        "colab": {
          "base_uri": "https://localhost:8080/"
        },
        "id": "fpaRnNRNJQjG",
        "outputId": "3ff6a434-bc88-4961-c708-78e08266461d"
      },
      "execution_count": 100,
      "outputs": [
        {
          "output_type": "stream",
          "name": "stdout",
          "text": [
            "(1000, 4)\n"
          ]
        }
      ]
    },
    {
      "cell_type": "markdown",
      "source": [
        "# **predict the US Elections, by analyzing  positive and negative sentiments in both the accounts:**"
      ],
      "metadata": {
        "id": "ONSm4lsFJg4N"
      }
    },
    {
      "cell_type": "code",
      "source": [
        "count_1 = df_subset_trump.groupby('Expression Label').count()\n",
        "print(count_1)\n",
        "\n",
        "negative_per1 = (count_1['Sentiment Polarity'][0]/1000)*10\n",
        "positive_per1 = (count_1['Sentiment Polarity'][1]/1000)*100\n",
        "\n",
        "count_2 = df_subset_biden.groupby('Expression Label').count()\n",
        "print(count_2)\n",
        "\n",
        "negative_per2 = (count_2['Sentiment Polarity'][0]/1000)*100\n",
        "positive_per2 = (count_2['Sentiment Polarity'][1]/1000)*100\n",
        "\n",
        "Politicians = ['Joe Biden', 'Donald Trump']\n",
        "lis_pos = [positive_per1, positive_per2]\n",
        "lis_neg = [negative_per1, negative_per2]\n",
        "\n",
        "fig = go.Figure(data=[\n",
        "    go.Bar(name='Positive', x=Politicians, y=lis_pos),\n",
        "    go.Bar(name='Negative', x=Politicians, y=lis_neg)\n",
        "])\n",
        "# Change the bar mode\n",
        "fig.update_layout(barmode='group')\n",
        "fig.show()"
      ],
      "metadata": {
        "colab": {
          "base_uri": "https://localhost:8080/",
          "height": 698
        },
        "id": "whqUt8FgJjyP",
        "outputId": "d5b1839d-d8dd-4de3-907c-ed4899affbc3"
      },
      "execution_count": 107,
      "outputs": [
        {
          "output_type": "stream",
          "name": "stdout",
          "text": [
            "                  user  text  Sentiment Polarity\n",
            "Expression Label                                \n",
            "negative           449   449                 449\n",
            "positive           551   551                 551\n",
            "                  user  text  Sentiment Polarity\n",
            "Expression Label                                \n",
            "Neutral            526   526                 526\n",
            "negative           179   179                 179\n",
            "positive           295   295                 295\n"
          ]
        },
        {
          "output_type": "display_data",
          "data": {
            "text/html": [
              "<html>\n",
              "<head><meta charset=\"utf-8\" /></head>\n",
              "<body>\n",
              "    <div>            <script src=\"https://cdnjs.cloudflare.com/ajax/libs/mathjax/2.7.5/MathJax.js?config=TeX-AMS-MML_SVG\"></script><script type=\"text/javascript\">if (window.MathJax && window.MathJax.Hub && window.MathJax.Hub.Config) {window.MathJax.Hub.Config({SVG: {font: \"STIX-Web\"}});}</script>                <script type=\"text/javascript\">window.PlotlyConfig = {MathJaxConfig: 'local'};</script>\n",
              "        <script charset=\"utf-8\" src=\"https://cdn.plot.ly/plotly-2.24.1.min.js\"></script>                <div id=\"31dfd012-f474-4071-8a2c-3b4c38fe096d\" class=\"plotly-graph-div\" style=\"height:525px; width:100%;\"></div>            <script type=\"text/javascript\">                                    window.PLOTLYENV=window.PLOTLYENV || {};                                    if (document.getElementById(\"31dfd012-f474-4071-8a2c-3b4c38fe096d\")) {                    Plotly.newPlot(                        \"31dfd012-f474-4071-8a2c-3b4c38fe096d\",                        [{\"name\":\"Positive\",\"x\":[\"Joe Biden\",\"Donald Trump\"],\"y\":[55.1,17.9],\"type\":\"bar\"},{\"name\":\"Negative\",\"x\":[\"Joe Biden\",\"Donald Trump\"],\"y\":[4.49,52.6],\"type\":\"bar\"}],                        {\"template\":{\"data\":{\"histogram2dcontour\":[{\"type\":\"histogram2dcontour\",\"colorbar\":{\"outlinewidth\":0,\"ticks\":\"\"},\"colorscale\":[[0.0,\"#0d0887\"],[0.1111111111111111,\"#46039f\"],[0.2222222222222222,\"#7201a8\"],[0.3333333333333333,\"#9c179e\"],[0.4444444444444444,\"#bd3786\"],[0.5555555555555556,\"#d8576b\"],[0.6666666666666666,\"#ed7953\"],[0.7777777777777778,\"#fb9f3a\"],[0.8888888888888888,\"#fdca26\"],[1.0,\"#f0f921\"]]}],\"choropleth\":[{\"type\":\"choropleth\",\"colorbar\":{\"outlinewidth\":0,\"ticks\":\"\"}}],\"histogram2d\":[{\"type\":\"histogram2d\",\"colorbar\":{\"outlinewidth\":0,\"ticks\":\"\"},\"colorscale\":[[0.0,\"#0d0887\"],[0.1111111111111111,\"#46039f\"],[0.2222222222222222,\"#7201a8\"],[0.3333333333333333,\"#9c179e\"],[0.4444444444444444,\"#bd3786\"],[0.5555555555555556,\"#d8576b\"],[0.6666666666666666,\"#ed7953\"],[0.7777777777777778,\"#fb9f3a\"],[0.8888888888888888,\"#fdca26\"],[1.0,\"#f0f921\"]]}],\"heatmap\":[{\"type\":\"heatmap\",\"colorbar\":{\"outlinewidth\":0,\"ticks\":\"\"},\"colorscale\":[[0.0,\"#0d0887\"],[0.1111111111111111,\"#46039f\"],[0.2222222222222222,\"#7201a8\"],[0.3333333333333333,\"#9c179e\"],[0.4444444444444444,\"#bd3786\"],[0.5555555555555556,\"#d8576b\"],[0.6666666666666666,\"#ed7953\"],[0.7777777777777778,\"#fb9f3a\"],[0.8888888888888888,\"#fdca26\"],[1.0,\"#f0f921\"]]}],\"heatmapgl\":[{\"type\":\"heatmapgl\",\"colorbar\":{\"outlinewidth\":0,\"ticks\":\"\"},\"colorscale\":[[0.0,\"#0d0887\"],[0.1111111111111111,\"#46039f\"],[0.2222222222222222,\"#7201a8\"],[0.3333333333333333,\"#9c179e\"],[0.4444444444444444,\"#bd3786\"],[0.5555555555555556,\"#d8576b\"],[0.6666666666666666,\"#ed7953\"],[0.7777777777777778,\"#fb9f3a\"],[0.8888888888888888,\"#fdca26\"],[1.0,\"#f0f921\"]]}],\"contourcarpet\":[{\"type\":\"contourcarpet\",\"colorbar\":{\"outlinewidth\":0,\"ticks\":\"\"}}],\"contour\":[{\"type\":\"contour\",\"colorbar\":{\"outlinewidth\":0,\"ticks\":\"\"},\"colorscale\":[[0.0,\"#0d0887\"],[0.1111111111111111,\"#46039f\"],[0.2222222222222222,\"#7201a8\"],[0.3333333333333333,\"#9c179e\"],[0.4444444444444444,\"#bd3786\"],[0.5555555555555556,\"#d8576b\"],[0.6666666666666666,\"#ed7953\"],[0.7777777777777778,\"#fb9f3a\"],[0.8888888888888888,\"#fdca26\"],[1.0,\"#f0f921\"]]}],\"surface\":[{\"type\":\"surface\",\"colorbar\":{\"outlinewidth\":0,\"ticks\":\"\"},\"colorscale\":[[0.0,\"#0d0887\"],[0.1111111111111111,\"#46039f\"],[0.2222222222222222,\"#7201a8\"],[0.3333333333333333,\"#9c179e\"],[0.4444444444444444,\"#bd3786\"],[0.5555555555555556,\"#d8576b\"],[0.6666666666666666,\"#ed7953\"],[0.7777777777777778,\"#fb9f3a\"],[0.8888888888888888,\"#fdca26\"],[1.0,\"#f0f921\"]]}],\"mesh3d\":[{\"type\":\"mesh3d\",\"colorbar\":{\"outlinewidth\":0,\"ticks\":\"\"}}],\"scatter\":[{\"fillpattern\":{\"fillmode\":\"overlay\",\"size\":10,\"solidity\":0.2},\"type\":\"scatter\"}],\"parcoords\":[{\"type\":\"parcoords\",\"line\":{\"colorbar\":{\"outlinewidth\":0,\"ticks\":\"\"}}}],\"scatterpolargl\":[{\"type\":\"scatterpolargl\",\"marker\":{\"colorbar\":{\"outlinewidth\":0,\"ticks\":\"\"}}}],\"bar\":[{\"error_x\":{\"color\":\"#2a3f5f\"},\"error_y\":{\"color\":\"#2a3f5f\"},\"marker\":{\"line\":{\"color\":\"#E5ECF6\",\"width\":0.5},\"pattern\":{\"fillmode\":\"overlay\",\"size\":10,\"solidity\":0.2}},\"type\":\"bar\"}],\"scattergeo\":[{\"type\":\"scattergeo\",\"marker\":{\"colorbar\":{\"outlinewidth\":0,\"ticks\":\"\"}}}],\"scatterpolar\":[{\"type\":\"scatterpolar\",\"marker\":{\"colorbar\":{\"outlinewidth\":0,\"ticks\":\"\"}}}],\"histogram\":[{\"marker\":{\"pattern\":{\"fillmode\":\"overlay\",\"size\":10,\"solidity\":0.2}},\"type\":\"histogram\"}],\"scattergl\":[{\"type\":\"scattergl\",\"marker\":{\"colorbar\":{\"outlinewidth\":0,\"ticks\":\"\"}}}],\"scatter3d\":[{\"type\":\"scatter3d\",\"line\":{\"colorbar\":{\"outlinewidth\":0,\"ticks\":\"\"}},\"marker\":{\"colorbar\":{\"outlinewidth\":0,\"ticks\":\"\"}}}],\"scattermapbox\":[{\"type\":\"scattermapbox\",\"marker\":{\"colorbar\":{\"outlinewidth\":0,\"ticks\":\"\"}}}],\"scatterternary\":[{\"type\":\"scatterternary\",\"marker\":{\"colorbar\":{\"outlinewidth\":0,\"ticks\":\"\"}}}],\"scattercarpet\":[{\"type\":\"scattercarpet\",\"marker\":{\"colorbar\":{\"outlinewidth\":0,\"ticks\":\"\"}}}],\"carpet\":[{\"aaxis\":{\"endlinecolor\":\"#2a3f5f\",\"gridcolor\":\"white\",\"linecolor\":\"white\",\"minorgridcolor\":\"white\",\"startlinecolor\":\"#2a3f5f\"},\"baxis\":{\"endlinecolor\":\"#2a3f5f\",\"gridcolor\":\"white\",\"linecolor\":\"white\",\"minorgridcolor\":\"white\",\"startlinecolor\":\"#2a3f5f\"},\"type\":\"carpet\"}],\"table\":[{\"cells\":{\"fill\":{\"color\":\"#EBF0F8\"},\"line\":{\"color\":\"white\"}},\"header\":{\"fill\":{\"color\":\"#C8D4E3\"},\"line\":{\"color\":\"white\"}},\"type\":\"table\"}],\"barpolar\":[{\"marker\":{\"line\":{\"color\":\"#E5ECF6\",\"width\":0.5},\"pattern\":{\"fillmode\":\"overlay\",\"size\":10,\"solidity\":0.2}},\"type\":\"barpolar\"}],\"pie\":[{\"automargin\":true,\"type\":\"pie\"}]},\"layout\":{\"autotypenumbers\":\"strict\",\"colorway\":[\"#636efa\",\"#EF553B\",\"#00cc96\",\"#ab63fa\",\"#FFA15A\",\"#19d3f3\",\"#FF6692\",\"#B6E880\",\"#FF97FF\",\"#FECB52\"],\"font\":{\"color\":\"#2a3f5f\"},\"hovermode\":\"closest\",\"hoverlabel\":{\"align\":\"left\"},\"paper_bgcolor\":\"white\",\"plot_bgcolor\":\"#E5ECF6\",\"polar\":{\"bgcolor\":\"#E5ECF6\",\"angularaxis\":{\"gridcolor\":\"white\",\"linecolor\":\"white\",\"ticks\":\"\"},\"radialaxis\":{\"gridcolor\":\"white\",\"linecolor\":\"white\",\"ticks\":\"\"}},\"ternary\":{\"bgcolor\":\"#E5ECF6\",\"aaxis\":{\"gridcolor\":\"white\",\"linecolor\":\"white\",\"ticks\":\"\"},\"baxis\":{\"gridcolor\":\"white\",\"linecolor\":\"white\",\"ticks\":\"\"},\"caxis\":{\"gridcolor\":\"white\",\"linecolor\":\"white\",\"ticks\":\"\"}},\"coloraxis\":{\"colorbar\":{\"outlinewidth\":0,\"ticks\":\"\"}},\"colorscale\":{\"sequential\":[[0.0,\"#0d0887\"],[0.1111111111111111,\"#46039f\"],[0.2222222222222222,\"#7201a8\"],[0.3333333333333333,\"#9c179e\"],[0.4444444444444444,\"#bd3786\"],[0.5555555555555556,\"#d8576b\"],[0.6666666666666666,\"#ed7953\"],[0.7777777777777778,\"#fb9f3a\"],[0.8888888888888888,\"#fdca26\"],[1.0,\"#f0f921\"]],\"sequentialminus\":[[0.0,\"#0d0887\"],[0.1111111111111111,\"#46039f\"],[0.2222222222222222,\"#7201a8\"],[0.3333333333333333,\"#9c179e\"],[0.4444444444444444,\"#bd3786\"],[0.5555555555555556,\"#d8576b\"],[0.6666666666666666,\"#ed7953\"],[0.7777777777777778,\"#fb9f3a\"],[0.8888888888888888,\"#fdca26\"],[1.0,\"#f0f921\"]],\"diverging\":[[0,\"#8e0152\"],[0.1,\"#c51b7d\"],[0.2,\"#de77ae\"],[0.3,\"#f1b6da\"],[0.4,\"#fde0ef\"],[0.5,\"#f7f7f7\"],[0.6,\"#e6f5d0\"],[0.7,\"#b8e186\"],[0.8,\"#7fbc41\"],[0.9,\"#4d9221\"],[1,\"#276419\"]]},\"xaxis\":{\"gridcolor\":\"white\",\"linecolor\":\"white\",\"ticks\":\"\",\"title\":{\"standoff\":15},\"zerolinecolor\":\"white\",\"automargin\":true,\"zerolinewidth\":2},\"yaxis\":{\"gridcolor\":\"white\",\"linecolor\":\"white\",\"ticks\":\"\",\"title\":{\"standoff\":15},\"zerolinecolor\":\"white\",\"automargin\":true,\"zerolinewidth\":2},\"scene\":{\"xaxis\":{\"backgroundcolor\":\"#E5ECF6\",\"gridcolor\":\"white\",\"linecolor\":\"white\",\"showbackground\":true,\"ticks\":\"\",\"zerolinecolor\":\"white\",\"gridwidth\":2},\"yaxis\":{\"backgroundcolor\":\"#E5ECF6\",\"gridcolor\":\"white\",\"linecolor\":\"white\",\"showbackground\":true,\"ticks\":\"\",\"zerolinecolor\":\"white\",\"gridwidth\":2},\"zaxis\":{\"backgroundcolor\":\"#E5ECF6\",\"gridcolor\":\"white\",\"linecolor\":\"white\",\"showbackground\":true,\"ticks\":\"\",\"zerolinecolor\":\"white\",\"gridwidth\":2}},\"shapedefaults\":{\"line\":{\"color\":\"#2a3f5f\"}},\"annotationdefaults\":{\"arrowcolor\":\"#2a3f5f\",\"arrowhead\":0,\"arrowwidth\":1},\"geo\":{\"bgcolor\":\"white\",\"landcolor\":\"#E5ECF6\",\"subunitcolor\":\"white\",\"showland\":true,\"showlakes\":true,\"lakecolor\":\"white\"},\"title\":{\"x\":0.05},\"mapbox\":{\"style\":\"light\"}}},\"barmode\":\"group\"},                        {\"responsive\": true}                    ).then(function(){\n",
              "                            \n",
              "var gd = document.getElementById('31dfd012-f474-4071-8a2c-3b4c38fe096d');\n",
              "var x = new MutationObserver(function (mutations, observer) {{\n",
              "        var display = window.getComputedStyle(gd).display;\n",
              "        if (!display || display === 'none') {{\n",
              "            console.log([gd, 'removed!']);\n",
              "            Plotly.purge(gd);\n",
              "            observer.disconnect();\n",
              "        }}\n",
              "}});\n",
              "\n",
              "// Listen for the removal of the full notebook cells\n",
              "var notebookContainer = gd.closest('#notebook-container');\n",
              "if (notebookContainer) {{\n",
              "    x.observe(notebookContainer, {childList: true});\n",
              "}}\n",
              "\n",
              "// Listen for the clearing of the current output cell\n",
              "var outputEl = gd.closest('.output');\n",
              "if (outputEl) {{\n",
              "    x.observe(outputEl, {childList: true});\n",
              "}}\n",
              "\n",
              "                        })                };                            </script>        </div>\n",
              "</body>\n",
              "</html>"
            ]
          },
          "metadata": {}
        }
      ]
    }
  ]
}